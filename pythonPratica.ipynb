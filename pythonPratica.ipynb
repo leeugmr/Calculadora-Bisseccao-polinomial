{
  "nbformat": 4,
  "nbformat_minor": 0,
  "metadata": {
    "colab": {
      "provenance": [],
      "toc_visible": true,
      "authorship_tag": "ABX9TyPUyTmCPi0MuEl0w1iWOXMT",
      "include_colab_link": true
    },
    "kernelspec": {
      "name": "python3",
      "display_name": "Python 3"
    },
    "language_info": {
      "name": "python"
    }
  },
  "cells": [
    {
      "cell_type": "markdown",
      "metadata": {
        "id": "view-in-github",
        "colab_type": "text"
      },
      "source": [
        "<a href=\"https://colab.research.google.com/github/leeugmr/Calculadora-Bisseccao-polinomial/blob/master/pythonPratica.ipynb\" target=\"_parent\"><img src=\"https://colab.research.google.com/assets/colab-badge.svg\" alt=\"Open In Colab\"/></a>"
      ]
    },
    {
      "cell_type": "code",
      "execution_count": null,
      "metadata": {
        "id": "TtHWkcma2cMp"
      },
      "outputs": [],
      "source": [
        "import numpy as np\n",
        "rng = np.random.default_rng(42)\n"
      ]
    },
    {
      "cell_type": "code",
      "source": [
        "a1 = np.zeros(10)\n",
        "print(a1.dtype, a1.shape)"
      ],
      "metadata": {
        "id": "1iThAgFr27mU"
      },
      "execution_count": null,
      "outputs": []
    },
    {
      "cell_type": "code",
      "source": [
        "a2 = np.ones(10, dtype=np.float64)\n",
        "print(a2, a2.dtype, a2.shape)"
      ],
      "metadata": {
        "id": "cY7e_eN12-AI"
      },
      "execution_count": null,
      "outputs": []
    },
    {
      "cell_type": "code",
      "source": [
        "a3 = np.arange(10)\n",
        "print(a3)"
      ],
      "metadata": {
        "id": "OuVfhXsi3z7x"
      },
      "execution_count": null,
      "outputs": []
    },
    {
      "cell_type": "code",
      "source": [
        "a4 = np.arange(9).reshape(3,3)\n",
        "print(a4)"
      ],
      "metadata": {
        "id": "NV9OuZ93309J"
      },
      "execution_count": null,
      "outputs": []
    },
    {
      "cell_type": "code",
      "source": [
        "v = np.array([1,2,0,0,4,0])\n",
        "print(np.nonzero(v))"
      ],
      "metadata": {
        "id": "lPbK1J_b312x"
      },
      "execution_count": null,
      "outputs": []
    },
    {
      "cell_type": "code",
      "source": [
        "a6 = np.linspace(0,1,12)\n",
        "print(a6)\n"
      ],
      "metadata": {
        "id": "GU1WL-nv32Ux"
      },
      "execution_count": null,
      "outputs": []
    },
    {
      "cell_type": "code",
      "source": [
        "a7 = np.eye(5)\n",
        "print(a7)"
      ],
      "metadata": {
        "id": "zVTIWDhR32p5"
      },
      "execution_count": null,
      "outputs": []
    },
    {
      "cell_type": "code",
      "source": [
        "a8 = rng.random((3,3,3))\n",
        "print(a8)"
      ],
      "metadata": {
        "id": "pw4F10Bl357h"
      },
      "execution_count": null,
      "outputs": []
    },
    {
      "cell_type": "code",
      "source": [
        "a9 = rng.random((10,10))\n",
        "print(a9.min(), a9.max())"
      ],
      "metadata": {
        "id": "qSxgXyVg364C"
      },
      "execution_count": null,
      "outputs": []
    },
    {
      "cell_type": "code",
      "source": [
        "x = np.array([1,2,3,4,5], dtype=float)\n",
        "x_std = (x - x.mean()) / x.std()\n",
        "print(x_std)"
      ],
      "metadata": {
        "id": "_ApDhmdJ370i"
      },
      "execution_count": null,
      "outputs": []
    },
    {
      "cell_type": "code",
      "source": [
        "a11 = np.array([1,2,3], dtype=np.int32).astype(np.float32).astype(np.int64)\n",
        "print(a11.dtype)"
      ],
      "metadata": {
        "id": "jRJzusJT38-J"
      },
      "execution_count": null,
      "outputs": []
    },
    {
      "cell_type": "code",
      "source": [
        "a12 = np.clip([2,5,7,1,9], 0, 5)\n",
        "print(a12)"
      ],
      "metadata": {
        "id": "PYARb25K3-B6"
      },
      "execution_count": null,
      "outputs": []
    },
    {
      "cell_type": "code",
      "source": [
        "a13 = np.arange(10)\n",
        "print(a13[::-1])\n"
      ],
      "metadata": {
        "id": "_tDSlygJ3_IR"
      },
      "execution_count": null,
      "outputs": []
    },
    {
      "cell_type": "code",
      "source": [
        "a = np.array([1,2,3])\n",
        "b = np.array([4,5,6])\n",
        "print(np.hstack((a,b)))\n",
        "print(np.vstack((a,b)))"
      ],
      "metadata": {
        "id": "Ij8rdZWn4AJB"
      },
      "execution_count": null,
      "outputs": []
    },
    {
      "cell_type": "code",
      "source": [
        "a15 = np.diag(np.full(4,5))\n",
        "print(a15)\n"
      ],
      "metadata": {
        "id": "uvTK4L9b4BSh"
      },
      "execution_count": null,
      "outputs": []
    },
    {
      "cell_type": "code",
      "source": [
        "A = np.arange(12).reshape(3,4)\n",
        "print(A.sum(axis=1), A.sum(axis=0))"
      ],
      "metadata": {
        "id": "urssrpsh4CGq"
      },
      "execution_count": null,
      "outputs": []
    },
    {
      "cell_type": "code",
      "source": [
        "vals = rng.integers(0,10,100)\n",
        "print(np.bincount(vals, minlength=10))"
      ],
      "metadata": {
        "id": "8H75o0iY4C1y"
      },
      "execution_count": null,
      "outputs": []
    },
    {
      "cell_type": "code",
      "source": [
        "v = np.arange(20)\n",
        "print(v[1::3])"
      ],
      "metadata": {
        "id": "vwLZ8Rdy4DxT"
      },
      "execution_count": null,
      "outputs": []
    },
    {
      "cell_type": "code",
      "source": [
        "v = np.arange(20)\n",
        "print(v[v % 2 == 0])"
      ],
      "metadata": {
        "id": "p0XJIZIR4Eoz"
      },
      "execution_count": null,
      "outputs": []
    },
    {
      "cell_type": "code",
      "source": [
        "a20 = np.array([[1,2,3],[4,5,6]])\n",
        "print(a20, a20.shape, a20.dtype)"
      ],
      "metadata": {
        "id": "brUhr5Dc4F1B"
      },
      "execution_count": null,
      "outputs": []
    },
    {
      "cell_type": "code",
      "source": [
        "a21 = np.arange(np.datetime64('2025-01-01'), np.datetime64('2025-01-08'))\n",
        "print(a21)"
      ],
      "metadata": {
        "id": "NPz3z3eE4Gmx"
      },
      "execution_count": null,
      "outputs": []
    },
    {
      "cell_type": "code",
      "source": [
        "A = np.array([[1.,2.,3.],[4.,5.,6.]])\n",
        "A_centered = A - A.mean(axis=0, keepdims=True)\n",
        "print(A_centered)"
      ],
      "metadata": {
        "id": "wPeA0IKt4HkB"
      },
      "execution_count": null,
      "outputs": []
    },
    {
      "cell_type": "code",
      "source": [
        "a = np.array([1,2,3])\n",
        "b = np.array([4,5,6])\n",
        "print(a*b)\n",
        "print(np.dot(a,b))"
      ],
      "metadata": {
        "id": "cbjnLs1V4IUo"
      },
      "execution_count": null,
      "outputs": []
    },
    {
      "cell_type": "code",
      "source": [
        "A = np.arange(12).reshape(3,4)\n",
        "A[:, [0,2]] = A[:, [2,0]]\n",
        "print(A)"
      ],
      "metadata": {
        "id": "vUA9PFEY4Jcx"
      },
      "execution_count": null,
      "outputs": []
    },
    {
      "cell_type": "code",
      "source": [
        "x = np.arange(9).reshape(3,3)\n",
        "y1 = x.flatten()\n",
        "y2 = x.ravel()\n",
        "y2[0] = 99\n",
        "print(x, y1, y2)"
      ],
      "metadata": {
        "id": "v6ttBwuI4KSL"
      },
      "execution_count": null,
      "outputs": []
    },
    {
      "cell_type": "code",
      "source": [
        "a26 = np.indices((8,8)).sum(axis=0) % 2\n",
        "print(a26)"
      ],
      "metadata": {
        "id": "PSl_DVRk4LMR"
      },
      "execution_count": null,
      "outputs": []
    },
    {
      "cell_type": "code",
      "source": [
        "x = np.arange(-5,6)\n",
        "print(np.where(x<0, 0, x))"
      ],
      "metadata": {
        "id": "735sRnf_4MUC"
      },
      "execution_count": null,
      "outputs": []
    },
    {
      "cell_type": "code",
      "source": [
        "x = rng.random(1_000_000)\n",
        "print(abs(x.mean() - 0.5))"
      ],
      "metadata": {
        "id": "tZF3Ua5k4NUB"
      },
      "execution_count": null,
      "outputs": []
    },
    {
      "cell_type": "code",
      "source": [
        "a = np.array([1,2,3])[:,None]\n",
        "b = np.array([10,20,30,40])\n",
        "print(a + b)"
      ],
      "metadata": {
        "id": "pl03E2z14OF0"
      },
      "execution_count": null,
      "outputs": []
    },
    {
      "cell_type": "code",
      "source": [
        "s = np.array([1,2,3,4,5])\n",
        "k = np.array([1,0,-1])\n",
        "windows = np.lib.stride_tricks.sliding_window_view(s, len(k))\n",
        "conv = (windows * np.flip(k)).sum(axis=1)\n",
        "print(conv)"
      ],
      "metadata": {
        "id": "5nAjGEMP4PIs"
      },
      "execution_count": null,
      "outputs": []
    },
    {
      "cell_type": "code",
      "source": [
        "A = rng.normal(size=(5,4))\n",
        "mn, mx = A.min(axis=0), A.max(axis=0)\n",
        "den = np.where(mx - mn == 0, 1, mx - mn)\n",
        "A_norm = (A - mn) / den\n",
        "print(A_norm)"
      ],
      "metadata": {
        "id": "ffGwwFHN4QGT"
      },
      "execution_count": null,
      "outputs": []
    },
    {
      "cell_type": "code",
      "source": [
        "A = np.array([[3,9],[1,4],[2,5]])\n",
        "print(A[A[:,1].argsort()])"
      ],
      "metadata": {
        "id": "WTmQJP4l4RQK"
      },
      "execution_count": null,
      "outputs": []
    },
    {
      "cell_type": "code",
      "source": [
        "x = np.array([3,1,2,3,2,3,1])\n",
        "u, idx, cnt = np.unique(x, return_index=True, return_counts=True)\n",
        "print(u, idx, cnt)"
      ],
      "metadata": {
        "id": "Rea0wBte4SPq"
      },
      "execution_count": null,
      "outputs": []
    },
    {
      "cell_type": "code",
      "source": [
        "P = rng.random((4,2))\n",
        "D = np.sqrt(((P[:,None,:] - P[None,:,:])**2).sum(axis=-1))\n",
        "print(D)"
      ],
      "metadata": {
        "id": "NoMJ-r-w4TQS"
      },
      "execution_count": null,
      "outputs": []
    },
    {
      "cell_type": "code",
      "source": [
        "X = rng.normal(size=(1000,3))\n",
        "print(np.cov(X, rowvar=False))\n",
        "print(np.corrcoef(X, rowvar=False))"
      ],
      "metadata": {
        "id": "Jd63KTJ34UgS"
      },
      "execution_count": null,
      "outputs": []
    },
    {
      "cell_type": "code",
      "source": [
        "y = np.array([2,0,1,2])\n",
        "onehot = np.zeros((len(y), y.max()+1))\n",
        "onehot[np.arange(len(y)), y] = 1\n",
        "print(onehot)"
      ],
      "metadata": {
        "id": "-4tXl-x44VZi"
      },
      "execution_count": null,
      "outputs": []
    }
  ]
}